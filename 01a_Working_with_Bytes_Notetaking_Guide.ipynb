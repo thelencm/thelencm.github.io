{
  "nbformat": 4,
  "nbformat_minor": 0,
  "metadata": {
    "kernelspec": {
      "display_name": "Python 3",
      "language": "python",
      "name": "python3"
    },
    "language_info": {
      "codemirror_mode": {
        "name": "ipython",
        "version": 3
      },
      "file_extension": ".py",
      "mimetype": "text/x-python",
      "name": "python",
      "nbconvert_exporter": "python",
      "pygments_lexer": "ipython3",
      "version": "3.8.5"
    },
    "colab": {
      "name": "01a Working with Bytes - Notetaking Guide.ipynb",
      "provenance": [],
      "include_colab_link": true
    }
  },
  "cells": [
    {
      "cell_type": "markdown",
      "metadata": {
        "id": "view-in-github",
        "colab_type": "text"
      },
      "source": [
        "<a href=\"https://colab.research.google.com/github/thelencm/thelencm.github.io/blob/master/01a_Working_with_Bytes_Notetaking_Guide.ipynb\" target=\"_parent\"><img src=\"https://colab.research.google.com/assets/colab-badge.svg\" alt=\"Open In Colab\"/></a>"
      ]
    },
    {
      "cell_type": "markdown",
      "metadata": {
        "id": "CSmxTejFKQ3_"
      },
      "source": [
        "# <center> Module 1a - Encoding Data\n",
        "## <center> ENGR 580A2: Secure Vehicle and Industrial Networking\n",
        "## <center><img src=\"https://www.engr.colostate.edu/~jdaily/Systems-EN-CSU-1-C357.svg\" width=\"600\" /> \n",
        "### <center> Instructor: Dr. Jeremy Daily<br>Fall 2020"
      ]
    },
    {
      "cell_type": "markdown",
      "metadata": {
        "id": "mP9PVc6uKQ4C"
      },
      "source": [
        "## Lesson Outcomes\n",
        "After completing this exercise, students should be able to:\n",
        "1. Realize encoded data is not encrypted.\n",
        "2. Carry-out data encoding for integers of different lengths.\n",
        "3. Present data as text strings or numbers based on the desired encoding.\n",
        "4. Develop Python programming skills to work with different types of encoding."
      ]
    },
    {
      "cell_type": "markdown",
      "metadata": {
        "id": "MbXHUnAdKQ4D"
      },
      "source": [
        "### Overview\n",
        "1. Define a string of bytes\n",
        "2. Explore integer encoding\n",
        "3. Learn the struct library\n",
        "4. Understand how to encode data as text with different codecs\n",
        "5. Represent binary only using text using base64 encoding"
      ]
    },
    {
      "cell_type": "code",
      "metadata": {
        "id": "shrEoB7qKQ4E"
      },
      "source": [
        "# Given a series of bits\n",
        "# This could represent some data frame in a CAN message\n",
        "a = 0b0110000101110100011101000110000101100011011010110000110100001010"
      ],
      "execution_count": 1,
      "outputs": []
    },
    {
      "cell_type": "code",
      "metadata": {
        "colab": {
          "base_uri": "https://localhost:8080/"
        },
        "id": "3TRy8aRcKQ4F",
        "outputId": "04f0e6d1-a1a0-41f3-8868-0e8f0d7b987a"
      },
      "source": [
        "#What is a?\n",
        "# The python default is an integer\n",
        "print(a)\n",
        "type(a)"
      ],
      "execution_count": 2,
      "outputs": [
        {
          "output_type": "stream",
          "text": [
            "7022365680606055690\n"
          ],
          "name": "stdout"
        },
        {
          "output_type": "execute_result",
          "data": {
            "text/plain": [
              "int"
            ]
          },
          "metadata": {},
          "execution_count": 2
        }
      ]
    },
    {
      "cell_type": "code",
      "metadata": {
        "colab": {
          "base_uri": "https://localhost:8080/"
        },
        "id": "4qmo_rQmKQ4H",
        "outputId": "c9293c7d-7b93-4176-cc03-2e7e85424bb9"
      },
      "source": [
        "# display integer as hex characters\n",
        "print(\"{:X}\".format(a))\n"
      ],
      "execution_count": 3,
      "outputs": [
        {
          "output_type": "stream",
          "text": [
            "61747461636B0D0A\n"
          ],
          "name": "stdout"
        }
      ]
    },
    {
      "cell_type": "code",
      "metadata": {
        "id": "fFiJQgB_KQ4I",
        "outputId": "5d56368d-e687-4734-902d-6ed470fb75cb"
      },
      "source": [
        "#display integer as binary\n",
        "print(\"{:064b}\".format(a))"
      ],
      "execution_count": null,
      "outputs": [
        {
          "name": "stdout",
          "output_type": "stream",
          "text": [
            "0110000101110100011101000110000101100011011010110000110100001010\n"
          ]
        }
      ]
    },
    {
      "cell_type": "code",
      "metadata": {
        "id": "kP3nmhkPKQ4J"
      },
      "source": [
        "# Python 3 also has a data type of bytes. \n",
        "# Most network traffic arrives as bytes\n",
        "b = \n",
        "print(b)\n",
        "type(b)"
      ],
      "execution_count": null,
      "outputs": []
    },
    {
      "cell_type": "code",
      "metadata": {
        "id": "2lIi_rmvKQ4K"
      },
      "source": [
        "len(b)"
      ],
      "execution_count": null,
      "outputs": []
    },
    {
      "cell_type": "code",
      "metadata": {
        "id": "tMp2tf9NKQ4M"
      },
      "source": [
        "# You can iterate through an array of bytes\n",
        "for i in b:\n",
        "    "
      ],
      "execution_count": null,
      "outputs": []
    },
    {
      "cell_type": "code",
      "metadata": {
        "id": "WCbSHPhVKQ4M"
      },
      "source": [
        "# Let's print the hex characters\n",
        "for i in b:\n",
        "    "
      ],
      "execution_count": null,
      "outputs": []
    },
    {
      "cell_type": "code",
      "metadata": {
        "id": "gb7HzvzzKQ4N"
      },
      "source": [
        "#Make a nice display of hex with raw bytes\n",
        "# This uses an efficient coding concept called list comprehension\n"
      ],
      "execution_count": null,
      "outputs": []
    },
    {
      "cell_type": "code",
      "metadata": {
        "id": "NG9VfPXrKQ4N"
      },
      "source": [
        "#Make a nice display of binary with raw bytes\n",
        "\" \".join([\"{:08b}\".format(i) for i in b])"
      ],
      "execution_count": null,
      "outputs": []
    },
    {
      "cell_type": "code",
      "metadata": {
        "id": "e_PAQc-vKQ4O"
      },
      "source": [
        "# pretend the last 4 bytes is a source IP address. \n",
        "# Let's display the address\n"
      ],
      "execution_count": null,
      "outputs": []
    },
    {
      "cell_type": "code",
      "metadata": {
        "id": "eu0jC785KQ4O"
      },
      "source": [
        "# Let's pretend the first four bytes are the destination IP address. \n",
        "# In Wireshark, this IP address would show up as hex:\n",
        "\" \".join([\"{:02X}\".format(i) for i in b[:4]])"
      ],
      "execution_count": null,
      "outputs": []
    },
    {
      "cell_type": "markdown",
      "metadata": {
        "id": "O5O-Bu6iKQ4O"
      },
      "source": [
        "### Decoding Options\n",
        "There are many options for decoding the raw bytes. The struct module is most helpful.\n",
        "\n",
        "https://docs.python.org/3.8/library/struct.html"
      ]
    },
    {
      "cell_type": "code",
      "metadata": {
        "id": "QqYhWgMqKQ4P"
      },
      "source": [
        "import struct"
      ],
      "execution_count": null,
      "outputs": []
    },
    {
      "cell_type": "code",
      "metadata": {
        "id": "Bw1esTWCKQ4P"
      },
      "source": [
        "# We might have 8 single byte, unsigned integers\n"
      ],
      "execution_count": null,
      "outputs": []
    },
    {
      "cell_type": "code",
      "metadata": {
        "id": "1pdhdFWWKQ4P"
      },
      "source": [
        "# We might have 8 single byte, signed integers\n"
      ],
      "execution_count": null,
      "outputs": []
    },
    {
      "cell_type": "code",
      "metadata": {
        "id": "qArMhmOfKQ4P"
      },
      "source": [
        "# These are the same. Let's try another example\n",
        "# The \\x escape tells that this is a hex string\n",
        "c = b'\\xDA'\n",
        "print(c)"
      ],
      "execution_count": null,
      "outputs": []
    },
    {
      "cell_type": "code",
      "metadata": {
        "id": "PBR-RN8bKQ4Q"
      },
      "source": [
        "# Unsigned Integer\n"
      ],
      "execution_count": null,
      "outputs": []
    },
    {
      "cell_type": "code",
      "metadata": {
        "id": "JCdipSaDKQ4Q"
      },
      "source": [
        "# Signed Integer\n"
      ],
      "execution_count": null,
      "outputs": []
    },
    {
      "cell_type": "code",
      "metadata": {
        "id": "le3Nu5EBKQ4Q"
      },
      "source": [
        "# The return value is always a tuple.\n",
        "type(struct.unpack('b',c))"
      ],
      "execution_count": null,
      "outputs": []
    },
    {
      "cell_type": "code",
      "metadata": {
        "id": "UPF62wipKQ4Q"
      },
      "source": [
        "# To get an ingeger, index the tuple\n",
        "struct.unpack('b',c)[0]"
      ],
      "execution_count": null,
      "outputs": []
    },
    {
      "cell_type": "code",
      "metadata": {
        "id": "pI6sWWNYKQ4Q"
      },
      "source": [
        "type(struct.unpack('b',c)[0])"
      ],
      "execution_count": null,
      "outputs": []
    },
    {
      "cell_type": "code",
      "metadata": {
        "id": "B2Sz-eeLKQ4R"
      },
      "source": [
        "#What if we had 4 16-bit unsigned numbers?\n"
      ],
      "execution_count": null,
      "outputs": []
    },
    {
      "cell_type": "code",
      "metadata": {
        "id": "MAkMhluiKQ4R"
      },
      "source": [
        "# But the byte order matters,\n"
      ],
      "execution_count": null,
      "outputs": []
    },
    {
      "cell_type": "code",
      "metadata": {
        "id": "JLNjscB3KQ4R"
      },
      "source": [
        "struct.unpack(\">HHHH\",b)"
      ],
      "execution_count": null,
      "outputs": []
    },
    {
      "cell_type": "code",
      "metadata": {
        "id": "0OHBi_ksKQ4R"
      },
      "source": [
        "#Big endian (the way humans read)\n"
      ],
      "execution_count": null,
      "outputs": []
    },
    {
      "cell_type": "code",
      "metadata": {
        "id": "A9eNDYZCKQ4R"
      },
      "source": [
        "#Big endian (Motorola Format)\n",
        "struct.pack(\">H\",24948)"
      ],
      "execution_count": null,
      "outputs": []
    },
    {
      "cell_type": "code",
      "metadata": {
        "id": "3c-N57PiKQ4S"
      },
      "source": [
        "#little endian (Reverse Byte order)\n",
        "(24948).to_bytes(2,'little')"
      ],
      "execution_count": null,
      "outputs": []
    },
    {
      "cell_type": "code",
      "metadata": {
        "id": "FMpGBOAvKQ4S"
      },
      "source": [
        "#Little endian (Intel Format)\n",
        "# Note 24948 = 0x6174 \n",
        "\n",
        "print(d)"
      ],
      "execution_count": null,
      "outputs": []
    },
    {
      "cell_type": "code",
      "metadata": {
        "id": "WopTYh3QKQ4S"
      },
      "source": [
        "# Notice the reverse byte order (Little Endian or Intel)\n",
        "\" \".join([\"{:02X}\".format(i) for i in d])"
      ],
      "execution_count": null,
      "outputs": []
    },
    {
      "cell_type": "code",
      "metadata": {
        "id": "f7mxaEfMKQ4S"
      },
      "source": [
        "# Signed 2-byte integers\n"
      ],
      "execution_count": null,
      "outputs": []
    },
    {
      "cell_type": "code",
      "metadata": {
        "id": "y1BOXOw4KQ4S"
      },
      "source": [
        "# Signed 2-byte integers\n",
        "struct.unpack(\"<h\",b'\\xda\\x55')"
      ],
      "execution_count": null,
      "outputs": []
    },
    {
      "cell_type": "code",
      "metadata": {
        "id": "AvIpmjK5KQ4S"
      },
      "source": [
        "# notice the reverse byte order\n",
        "print(0x55da)"
      ],
      "execution_count": null,
      "outputs": []
    },
    {
      "cell_type": "markdown",
      "metadata": {
        "id": "Qu8_lSlAKQ4T"
      },
      "source": [
        "### Characters"
      ]
    },
    {
      "cell_type": "code",
      "metadata": {
        "colab": {
          "base_uri": "https://localhost:8080/",
          "height": 197
        },
        "id": "YTOz-hd4KQ4T",
        "outputId": "729f4ab1-3413-4a7b-b02c-d8ef87a8c458"
      },
      "source": [
        "# We might have 8 single characters\n",
        "\n",
        "print(e)"
      ],
      "execution_count": 8,
      "outputs": [
        {
          "output_type": "error",
          "ename": "NameError",
          "evalue": "ignored",
          "traceback": [
            "\u001b[0;31m---------------------------------------------------------------------------\u001b[0m",
            "\u001b[0;31mNameError\u001b[0m                                 Traceback (most recent call last)",
            "\u001b[0;32m<ipython-input-8-286fbeb576ae>\u001b[0m in \u001b[0;36m<module>\u001b[0;34m()\u001b[0m\n\u001b[1;32m      1\u001b[0m \u001b[0;31m# We might have 8 single characters\u001b[0m\u001b[0;34m\u001b[0m\u001b[0;34m\u001b[0m\u001b[0;34m\u001b[0m\u001b[0m\n\u001b[1;32m      2\u001b[0m \u001b[0;34m\u001b[0m\u001b[0m\n\u001b[0;32m----> 3\u001b[0;31m \u001b[0mprint\u001b[0m\u001b[0;34m(\u001b[0m\u001b[0me\u001b[0m\u001b[0;34m)\u001b[0m\u001b[0;34m\u001b[0m\u001b[0;34m\u001b[0m\u001b[0m\n\u001b[0m",
            "\u001b[0;31mNameError\u001b[0m: name 'e' is not defined"
          ]
        }
      ]
    },
    {
      "cell_type": "code",
      "metadata": {
        "id": "dsOWhg1GKQ4T"
      },
      "source": [
        "#Combine the bytes into a single string of bytes.\n"
      ],
      "execution_count": 9,
      "outputs": []
    },
    {
      "cell_type": "code",
      "metadata": {
        "colab": {
          "base_uri": "https://localhost:8080/",
          "height": 197
        },
        "id": "qGOQUFjQKQ4T",
        "outputId": "b84b8fb6-428e-4335-b2aa-0cfa1f34d245"
      },
      "source": [
        "#This is the same as packing\n",
        "f = struct.pack(\"cccccccc\",b'a', b't', b't', b'a', b'c', b'k', b'\\r', b'\\n')\n",
        "print(f)"
      ],
      "execution_count": 10,
      "outputs": [
        {
          "output_type": "error",
          "ename": "NameError",
          "evalue": "ignored",
          "traceback": [
            "\u001b[0;31m---------------------------------------------------------------------------\u001b[0m",
            "\u001b[0;31mNameError\u001b[0m                                 Traceback (most recent call last)",
            "\u001b[0;32m<ipython-input-10-314a4d9f5df1>\u001b[0m in \u001b[0;36m<module>\u001b[0;34m()\u001b[0m\n\u001b[1;32m      1\u001b[0m \u001b[0;31m#This is the same as packing\u001b[0m\u001b[0;34m\u001b[0m\u001b[0;34m\u001b[0m\u001b[0;34m\u001b[0m\u001b[0m\n\u001b[0;32m----> 2\u001b[0;31m \u001b[0mf\u001b[0m \u001b[0;34m=\u001b[0m \u001b[0mstruct\u001b[0m\u001b[0;34m.\u001b[0m\u001b[0mpack\u001b[0m\u001b[0;34m(\u001b[0m\u001b[0;34m\"cccccccc\"\u001b[0m\u001b[0;34m,\u001b[0m\u001b[0;34mb'a'\u001b[0m\u001b[0;34m,\u001b[0m \u001b[0;34mb't'\u001b[0m\u001b[0;34m,\u001b[0m \u001b[0;34mb't'\u001b[0m\u001b[0;34m,\u001b[0m \u001b[0;34mb'a'\u001b[0m\u001b[0;34m,\u001b[0m \u001b[0;34mb'c'\u001b[0m\u001b[0;34m,\u001b[0m \u001b[0;34mb'k'\u001b[0m\u001b[0;34m,\u001b[0m \u001b[0;34mb'\\r'\u001b[0m\u001b[0;34m,\u001b[0m \u001b[0;34mb'\\n'\u001b[0m\u001b[0;34m)\u001b[0m\u001b[0;34m\u001b[0m\u001b[0;34m\u001b[0m\u001b[0m\n\u001b[0m\u001b[1;32m      3\u001b[0m \u001b[0mprint\u001b[0m\u001b[0;34m(\u001b[0m\u001b[0mf\u001b[0m\u001b[0;34m)\u001b[0m\u001b[0;34m\u001b[0m\u001b[0;34m\u001b[0m\u001b[0m\n",
            "\u001b[0;31mNameError\u001b[0m: name 'struct' is not defined"
          ]
        }
      ]
    },
    {
      "cell_type": "code",
      "metadata": {
        "id": "Pm2pIzJhKQ4T"
      },
      "source": [
        "# Using s enables the creation of a byte string without join\n"
      ],
      "execution_count": null,
      "outputs": []
    },
    {
      "cell_type": "code",
      "metadata": {
        "id": "49A1PDtCKQ4T"
      },
      "source": [
        "#Convert to a string\n",
        "str(f)"
      ],
      "execution_count": null,
      "outputs": []
    },
    {
      "cell_type": "code",
      "metadata": {
        "id": "8bpA_3fsKQ4U"
      },
      "source": [
        "# Not really what we want. We know this is ascii text\n"
      ],
      "execution_count": null,
      "outputs": []
    },
    {
      "cell_type": "code",
      "metadata": {
        "id": "ecJFzm0-KQ4U"
      },
      "source": [
        "# Notice the extra line from the carriage return \\r and new line \\n.\n",
        "print(f.decode('ascii'))"
      ],
      "execution_count": null,
      "outputs": []
    },
    {
      "cell_type": "code",
      "metadata": {
        "id": "Kl4BKJdEKQ4U"
      },
      "source": [
        "# More modern is utf-8\n"
      ],
      "execution_count": null,
      "outputs": []
    },
    {
      "cell_type": "code",
      "metadata": {
        "id": "u_8T--wFKQ4U"
      },
      "source": [
        "# There are many character sets\n",
        "f.decode('latin-1')"
      ],
      "execution_count": null,
      "outputs": []
    },
    {
      "cell_type": "code",
      "metadata": {
        "id": "TTqOxyrAKQ4U"
      },
      "source": [
        "b'attack\\xc4\\xfa'.decode('latin-1')"
      ],
      "execution_count": null,
      "outputs": []
    },
    {
      "cell_type": "code",
      "metadata": {
        "id": "ZvPXj-v7KQ4U"
      },
      "source": [
        "b'attack\\xc4\\xfa'.decode('ascii')"
      ],
      "execution_count": null,
      "outputs": []
    },
    {
      "cell_type": "code",
      "metadata": {
        "id": "8IeGoHvYKQ4U"
      },
      "source": [
        "# We can ignore some of the non-ascii characters\n",
        "b'attack\\xc4\\xfa'.decode('ascii','ignore')"
      ],
      "execution_count": null,
      "outputs": []
    },
    {
      "cell_type": "code",
      "metadata": {
        "id": "UrkAGGwoKQ4U"
      },
      "source": [
        "b'attack\\xc4\\xfa'.decode('utf-8')"
      ],
      "execution_count": null,
      "outputs": []
    },
    {
      "cell_type": "code",
      "metadata": {
        "id": "nSKWEsLuKQ4V"
      },
      "source": [
        "# This keeps from getting errors\n",
        "b'attack\\xc4\\xfa'.decode('utf-8','replace')"
      ],
      "execution_count": null,
      "outputs": []
    },
    {
      "cell_type": "code",
      "metadata": {
        "id": "0E3DGfjNKQ4V"
      },
      "source": [
        "# Here's a valid UTF string. It uses 2 bytes.\n",
        "b'attack\\xc4\\x8a'.decode('utf-8','strict')"
      ],
      "execution_count": null,
      "outputs": []
    },
    {
      "cell_type": "markdown",
      "metadata": {
        "id": "MFtNauKdKQ4V"
      },
      "source": [
        "### Long Integers"
      ]
    },
    {
      "cell_type": "code",
      "metadata": {
        "id": "Ek9xlpihKQ4V"
      },
      "source": [
        "struct.unpack('>LL',b)"
      ],
      "execution_count": null,
      "outputs": []
    },
    {
      "cell_type": "code",
      "metadata": {
        "id": "tiC8AvACKQ4V"
      },
      "source": [
        ""
      ],
      "execution_count": null,
      "outputs": []
    },
    {
      "cell_type": "code",
      "metadata": {
        "id": "pa10qBFHKQ4V"
      },
      "source": [
        "# Notice the symmetry on the first four bytes: atta\n",
        "struct.unpack('<L',b'ck\\r\\n')"
      ],
      "execution_count": null,
      "outputs": []
    },
    {
      "cell_type": "code",
      "metadata": {
        "id": "GoiLm1V3KQ4V"
      },
      "source": [
        "struct.unpack('>L',b'ck\\r\\n')"
      ],
      "execution_count": null,
      "outputs": []
    },
    {
      "cell_type": "code",
      "metadata": {
        "id": "WexO2yeCKQ4W"
      },
      "source": [
        "struct.pack(\"<L\",168651619)"
      ],
      "execution_count": null,
      "outputs": []
    },
    {
      "cell_type": "code",
      "metadata": {
        "id": "D8alnw3BKQ4W"
      },
      "source": [
        "#Hex as an int\n",
        "0x0A0D6B63"
      ],
      "execution_count": null,
      "outputs": []
    },
    {
      "cell_type": "code",
      "metadata": {
        "id": "5J-tR1xQKQ4W"
      },
      "source": [
        "# Reverse byte order\n"
      ],
      "execution_count": null,
      "outputs": []
    },
    {
      "cell_type": "code",
      "metadata": {
        "id": "FKyS1oj9KQ4W"
      },
      "source": [
        "#Signed long integers\n",
        "struct.unpack('>ll',b)"
      ],
      "execution_count": null,
      "outputs": []
    },
    {
      "cell_type": "markdown",
      "metadata": {
        "id": "L5rhFCpNKQ4W"
      },
      "source": [
        "### Practical Example: Decoding Vehicle Miles\n",
        "SAE J1939 has a message defined as PGN 65248: Vehicle Distance. It has two 32-bit integers in the 8 byte message. The first four bytes are SPN 244: Trip Distance and the second number is SPN 245: Total Vehicle Distance, or the Odometer reading. It is represented as the number of 0.125 km that have accumulated. This message can be found in many truck log files."
      ]
    },
    {
      "cell_type": "code",
      "metadata": {
        "colab": {
          "base_uri": "https://localhost:8080/",
          "height": 35
        },
        "id": "IgZPrKRyKQ4X",
        "outputId": "47cb2a17-c6a9-4cad-9acc-e87eece1dba7"
      },
      "source": [
        "#First, print the PGN in hex\n",
        "\"{:X}\".format(65248)"
      ],
      "execution_count": 7,
      "outputs": [
        {
          "output_type": "execute_result",
          "data": {
            "application/vnd.google.colaboratory.intrinsic+json": {
              "type": "string"
            },
            "text/plain": [
              "'FEE0'"
            ]
          },
          "metadata": {},
          "execution_count": 7
        }
      ]
    },
    {
      "cell_type": "code",
      "metadata": {
        "id": "znnU0hNEKQ4X"
      },
      "source": [
        "# A CAN log file from a truck has this line corresponding to PGN 65248\n",
        "log_text = \"(012.102753)  can1  18FEE000   [8]  73 49 03 00 BC E0 33 00\""
      ],
      "execution_count": 5,
      "outputs": []
    },
    {
      "cell_type": "code",
      "metadata": {
        "colab": {
          "base_uri": "https://localhost:8080/",
          "height": 129
        },
        "id": "c3u-5FxKKQ4X",
        "outputId": "89beffb3-3657-42ef-e581-f706e595004d"
      },
      "source": [
        "# Parse the line into a list:\n",
        "entries = \n",
        "entries"
      ],
      "execution_count": 6,
      "outputs": [
        {
          "output_type": "error",
          "ename": "SyntaxError",
          "evalue": "ignored",
          "traceback": [
            "\u001b[0;36m  File \u001b[0;32m\"<ipython-input-6-18a153e71148>\"\u001b[0;36m, line \u001b[0;32m2\u001b[0m\n\u001b[0;31m    entries =\u001b[0m\n\u001b[0m              ^\u001b[0m\n\u001b[0;31mSyntaxError\u001b[0m\u001b[0;31m:\u001b[0m invalid syntax\n"
          ]
        }
      ]
    },
    {
      "cell_type": "code",
      "metadata": {
        "id": "x0gPSY85KQ4X"
      },
      "source": [
        "#Convert to bytes\n",
        "data_bytes = \n",
        "data_bytes"
      ],
      "execution_count": null,
      "outputs": []
    },
    {
      "cell_type": "code",
      "metadata": {
        "id": "A8I0REXzKQ4X"
      },
      "source": [
        "# another way\n",
        "data_bytes = b''\n",
        "for i in entries[4:12]:\n",
        "    data_bytes += \n",
        "data_bytes"
      ],
      "execution_count": null,
      "outputs": []
    },
    {
      "cell_type": "code",
      "metadata": {
        "id": "Ib_AIhIaKQ4X"
      },
      "source": [
        "# J1939 is in little endian (Intel) format\n",
        "pgn_values = \n",
        "pgn_values"
      ],
      "execution_count": null,
      "outputs": []
    },
    {
      "cell_type": "code",
      "metadata": {
        "id": "-pyosuKbKQ4Y"
      },
      "source": [
        "# Compute mileage\n",
        "SPN245 = 0.125*pgn_values[1]/1.6071\n",
        "print(\"The Total Vehicle Distance is {:0,.1f} miles.\".format(SPN245))"
      ],
      "execution_count": null,
      "outputs": []
    },
    {
      "cell_type": "code",
      "metadata": {
        "id": "FiAHZeGCKQ4Y"
      },
      "source": [
        "# The long (bad) way\n",
        "# Multiply the bytes by their place holder\n",
        "value = 0\n",
        "value += data_bytes[4]\n",
        "value += data_bytes[5]*256\n",
        "value += data_bytes[6]*256*256\n",
        "value += data_bytes[7]*256*256*256\n",
        "value"
      ],
      "execution_count": null,
      "outputs": []
    },
    {
      "cell_type": "markdown",
      "metadata": {
        "id": "YMmtvhAKKQ4Y"
      },
      "source": [
        "### 64-bit numbers"
      ]
    },
    {
      "cell_type": "code",
      "metadata": {
        "id": "yKnONj2GKQ4Y"
      },
      "source": [
        "#Convert the double long integer a into bytes\n"
      ],
      "execution_count": null,
      "outputs": []
    },
    {
      "cell_type": "code",
      "metadata": {
        "id": "3hwgL5NpKQ4Y"
      },
      "source": [
        "# See how to convert back into a 64-bit integer\n"
      ],
      "execution_count": null,
      "outputs": []
    },
    {
      "cell_type": "code",
      "metadata": {
        "id": "XB9aJ1QmKQ4Y"
      },
      "source": [
        "#Byte order is important\n",
        "struct.unpack('<Q',b)"
      ],
      "execution_count": null,
      "outputs": []
    },
    {
      "cell_type": "code",
      "metadata": {
        "id": "_mQLROT2KQ4Y"
      },
      "source": [
        "# Signed 64-bit integers\n",
        "struct.unpack('>q',b)"
      ],
      "execution_count": null,
      "outputs": []
    },
    {
      "cell_type": "code",
      "metadata": {
        "id": "hlPDtF3sKQ4Z"
      },
      "source": [
        "# The first bit must be set to get a negative number\n",
        "neg_num = struct.unpack('>q',b'\\xd0ttack\\r\\n')\n",
        "neg_num"
      ],
      "execution_count": null,
      "outputs": []
    },
    {
      "cell_type": "code",
      "metadata": {
        "id": "jt7VZ2grKQ4Z"
      },
      "source": [
        "# We can look at this as two floats\n"
      ],
      "execution_count": null,
      "outputs": []
    },
    {
      "cell_type": "code",
      "metadata": {
        "id": "MefAEk69KQ4Z"
      },
      "source": [
        "# We can look at this as two floats (endianness doesn't matter)\n",
        "struct.unpack('<ff',b)"
      ],
      "execution_count": null,
      "outputs": []
    },
    {
      "cell_type": "code",
      "metadata": {
        "id": "_fmV2klkKQ4Z"
      },
      "source": [
        "# We can look at this as a single double float\n"
      ],
      "execution_count": null,
      "outputs": []
    },
    {
      "cell_type": "code",
      "metadata": {
        "id": "s8Jon8-FKQ4Z"
      },
      "source": [
        "# The inverse\n",
        "1/struct.unpack('>d',b)[0]"
      ],
      "execution_count": null,
      "outputs": []
    },
    {
      "cell_type": "markdown",
      "metadata": {
        "id": "BdSDFR5cKQ4Z"
      },
      "source": [
        "## Sending bytes as text only\n",
        "Base64 encoding\n",
        "\n",
        "https://docs.python.org/3.8/library/base64.html\n",
        "\n",
        "\n",
        "This is how to send cryptographic bytes in e-mail."
      ]
    },
    {
      "cell_type": "code",
      "metadata": {
        "id": "YW9dsQ1iKQ4Z"
      },
      "source": [
        "import base64"
      ],
      "execution_count": null,
      "outputs": []
    },
    {
      "cell_type": "code",
      "metadata": {
        "id": "Y8w_4imoKQ4a"
      },
      "source": [
        "#As bytes\n",
        "g = \n",
        "print(g)"
      ],
      "execution_count": null,
      "outputs": []
    },
    {
      "cell_type": "code",
      "metadata": {
        "id": "DwMwNDdeKQ4a"
      },
      "source": [
        "#As a string\n"
      ],
      "execution_count": null,
      "outputs": []
    },
    {
      "cell_type": "code",
      "metadata": {
        "id": "t8TgvGCVKQ4a"
      },
      "source": [
        "len(g)"
      ],
      "execution_count": null,
      "outputs": []
    },
    {
      "cell_type": "code",
      "metadata": {
        "id": "rVuPfwEaKQ4a"
      },
      "source": [
        "len(b)"
      ],
      "execution_count": null,
      "outputs": []
    },
    {
      "cell_type": "markdown",
      "metadata": {
        "id": "BrXE1k3dKQ4a"
      },
      "source": [
        "While the length of the data increases by 1.5, it enables transmission by email or http. Base64 encoding is very common for storing cryptographic data."
      ]
    },
    {
      "cell_type": "code",
      "metadata": {
        "id": "ORZg6R_qKQ4a"
      },
      "source": [
        "b"
      ],
      "execution_count": null,
      "outputs": []
    },
    {
      "cell_type": "code",
      "metadata": {
        "id": "UbDNGbWxKQ4a"
      },
      "source": [
        "#What about just converting to hex characters?\n",
        "h = \n",
        "h"
      ],
      "execution_count": null,
      "outputs": []
    },
    {
      "cell_type": "code",
      "metadata": {
        "id": "puzYM2yLKQ4a"
      },
      "source": [
        "#Converting to printable hex doubles the length. Therefore base64 encoding is more efficient.\n",
        "len(h)"
      ],
      "execution_count": null,
      "outputs": []
    },
    {
      "cell_type": "code",
      "metadata": {
        "id": "HvunB09xKQ4a"
      },
      "source": [
        "# recall: display integer as hex characters\n",
        "print(\"{:016X}\".format(a))"
      ],
      "execution_count": null,
      "outputs": []
    },
    {
      "cell_type": "code",
      "metadata": {
        "id": "7ghq2ApFKQ4b"
      },
      "source": [
        "#Decode\n",
        "base64.b64decode('YXR0YWNrDQo=')"
      ],
      "execution_count": null,
      "outputs": []
    },
    {
      "cell_type": "code",
      "metadata": {
        "id": "0ZKM0R67KQ4b"
      },
      "source": [
        "char_list = \n",
        "print(char_list)"
      ],
      "execution_count": null,
      "outputs": []
    },
    {
      "cell_type": "code",
      "metadata": {
        "id": "mM40RM8OKQ4b"
      },
      "source": [
        "#the alphabet:\n",
        "j = \n",
        "print(j)"
      ],
      "execution_count": null,
      "outputs": []
    },
    {
      "cell_type": "code",
      "metadata": {
        "id": "QOV_-660KQ4b"
      },
      "source": [
        "len(j)"
      ],
      "execution_count": null,
      "outputs": []
    },
    {
      "cell_type": "code",
      "metadata": {
        "id": "dJWikENuKQ4b"
      },
      "source": [
        "len(j)/len(char_list)"
      ],
      "execution_count": null,
      "outputs": []
    },
    {
      "cell_type": "code",
      "metadata": {
        "id": "ND732VJ6KQ4b"
      },
      "source": [
        "len(char_list)"
      ],
      "execution_count": null,
      "outputs": []
    },
    {
      "cell_type": "markdown",
      "metadata": {
        "id": "Al7Rv086KQ4b"
      },
      "source": [
        "Note: Base64 encoded data is NOT encrypted. No additional information is needed to decode the data. There is no key."
      ]
    },
    {
      "cell_type": "markdown",
      "metadata": {
        "id": "t-VgEv_lKQ4b"
      },
      "source": [
        "## Crude Ciphers\n",
        "### Simple XOR encryption\n",
        "Given use an XOR operation to encrypt and decrypt."
      ]
    },
    {
      "cell_type": "code",
      "metadata": {
        "id": "QaIPlk8pKQ4c"
      },
      "source": [
        "plain_text =  \"Fourscore and seven years ago our fathers brought forth, on this continent, a new nation, conceived in liberty, and dedicated to the proposition that all men are created equal. Now we are engaged in a great civil war, testing whether that nation, or any nation so conceived, and so dedicated, can long endure.\""
      ],
      "execution_count": null,
      "outputs": []
    },
    {
      "cell_type": "code",
      "metadata": {
        "id": "xAfoiwMnKQ4c"
      },
      "source": [
        "key = \n",
        "struct.pack('B',key)"
      ],
      "execution_count": null,
      "outputs": []
    },
    {
      "cell_type": "code",
      "metadata": {
        "id": "M7bV4yyvKQ4c"
      },
      "source": [
        "#convert to a bytearray\n",
        "plain_bytes = bytes(plain_text,'utf-8')\n",
        "print(plain_bytes)"
      ],
      "execution_count": null,
      "outputs": []
    },
    {
      "cell_type": "code",
      "metadata": {
        "id": "N36DsAiCKQ4c"
      },
      "source": [
        "cipher_bytes = \n",
        "cipher_bytes"
      ],
      "execution_count": null,
      "outputs": []
    },
    {
      "cell_type": "code",
      "metadata": {
        "id": "_PROuq8UKQ4c"
      },
      "source": [
        "#decrypt is the same process:\n"
      ],
      "execution_count": null,
      "outputs": []
    },
    {
      "cell_type": "code",
      "metadata": {
        "id": "LB48EbgKKQ4c"
      },
      "source": [
        "min(plain_bytes)"
      ],
      "execution_count": null,
      "outputs": []
    },
    {
      "cell_type": "code",
      "metadata": {
        "id": "0bVhuXErKQ4c"
      },
      "source": [
        "# What if you don't know the key?\n",
        "for k in range(256):\n",
        "    canidate = bytearray(x ^ k for x in cipher_bytes)\n",
        "    if : #Ascii       \n",
        "        print(k)\n",
        "        print(canidate)\n",
        "        print()"
      ],
      "execution_count": null,
      "outputs": []
    },
    {
      "cell_type": "code",
      "metadata": {
        "id": "-JLS2KeaKQ4d"
      },
      "source": [
        "# A Ceasar Shift Cipher\n",
        "shifted_text = \n",
        "shifted_text"
      ],
      "execution_count": null,
      "outputs": []
    },
    {
      "cell_type": "code",
      "metadata": {
        "id": "VLWjES6oKQ4d"
      },
      "source": [
        "# A Ceasar Shift Cipher decipher\n",
        "bytearray((x - key) for x in shifted_text)"
      ],
      "execution_count": null,
      "outputs": []
    },
    {
      "cell_type": "code",
      "metadata": {
        "id": "cfezsX8YKQ4d"
      },
      "source": [
        "#Compute the key based on frequency\n",
        "#spaces are frequent, so\n",
        "space_guess = ord('%')\n",
        "print(space_guess)\n",
        "space = ord(' ')\n",
        "print(space)\n",
        "key_guess = space_guess - space\n",
        "print(key_guess)"
      ],
      "execution_count": null,
      "outputs": []
    },
    {
      "cell_type": "code",
      "metadata": {
        "id": "EAyjUYRnKQ4d"
      },
      "source": [
        "# A classic ceaser shift cipher with a shift of 13 (half the alphabet)\n",
        "import codecs\n",
        "codecs.encode('aAbcdez', 'rot13',)"
      ],
      "execution_count": null,
      "outputs": []
    },
    {
      "cell_type": "markdown",
      "metadata": {
        "id": "I59eQw3SKQ4d"
      },
      "source": [
        "#### Examine different character encodings"
      ]
    },
    {
      "cell_type": "code",
      "metadata": {
        "id": "goN2E2qGKQ4d"
      },
      "source": [
        "#UTF-8\n",
        "\" \".join()"
      ],
      "execution_count": null,
      "outputs": []
    },
    {
      "cell_type": "code",
      "metadata": {
        "id": "ChB_h_mRKQ4d"
      },
      "source": [
        "#Latin-1\n",
        "\" \".join([struct.pack('B',x).decode('latin-1','ignore') for x in range(0xff)])"
      ],
      "execution_count": null,
      "outputs": []
    },
    {
      "cell_type": "code",
      "metadata": {
        "id": "5rDr8OkHKQ4e"
      },
      "source": [
        "[\" \".join([struct.pack('B',x).decode('greek','ignore') for x in range(0xff)])]"
      ],
      "execution_count": null,
      "outputs": []
    },
    {
      "cell_type": "markdown",
      "metadata": {
        "id": "0AARhKmEKQ4e"
      },
      "source": [
        "## Concluding Remarks\n",
        "* You should see and appreciate the different ways binary data can be encoded. \n",
        "* Communications rely heavily on common codecs. \n",
        "* Encoding is not encrypting."
      ]
    }
  ]
}